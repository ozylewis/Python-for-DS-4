{
 "cells": [
  {
   "cell_type": "code",
   "execution_count": 5,
   "metadata": {},
   "outputs": [
    {
     "name": "stdout",
     "output_type": "stream",
     "text": [
      "1\n",
      "2\n",
      "3\n",
      "4\n",
      "5\n",
      "6\n",
      "7\n",
      "8\n",
      "9\n",
      "10\n"
     ]
    }
   ],
   "source": [
    "# For Loop\n",
    "# range is used for numbers\n",
    "\n",
    "for variable in range(1,11):\n",
    "    print(variable)\n",
    "#doesnt print the last no,in this case 11"
   ]
  },
  {
   "cell_type": "code",
   "execution_count": 2,
   "metadata": {},
   "outputs": [
    {
     "name": "stdout",
     "output_type": "stream",
     "text": [
      "0\n",
      "2\n",
      "4\n",
      "6\n",
      "8\n"
     ]
    }
   ],
   "source": [
    "for variable in range(0,10,2):\n",
    "    print(variable)\n",
    "#increment by 2"
   ]
  },
  {
   "cell_type": "code",
   "execution_count": 16,
   "metadata": {},
   "outputs": [
    {
     "name": "stdout",
     "output_type": "stream",
     "text": [
      "[2, 3, 4, 5, 6, 7, 8]\n"
     ]
    }
   ],
   "source": [
    "# Ctrl / for comment and uncomment\n",
    "# increment in list form\n",
    "list_ex=[0,1,2,3,4,5,6]\n",
    "# for a in list_ex:\n",
    "#     print(a)\n",
    "\n",
    "for a in range(len(list_ex)):\n",
    "    list_ex[a]=list_ex[a]+2\n",
    "print(list_ex)"
   ]
  },
  {
   "cell_type": "code",
   "execution_count": 18,
   "metadata": {},
   "outputs": [
    {
     "name": "stdout",
     "output_type": "stream",
     "text": [
      "apple\n",
      "bat\n",
      "cat\n",
      "bow\n"
     ]
    }
   ],
   "source": [
    "# for & if loop\n",
    "\n",
    "list_a=['apple','bat','cat','dog']\n",
    "for b in list_a:\n",
    "    if b==\"dog\":\n",
    "        print(\"bow\")\n",
    "    else:\n",
    "        print(b)"
   ]
  },
  {
   "cell_type": "code",
   "execution_count": 21,
   "metadata": {},
   "outputs": [
    {
     "name": "stdout",
     "output_type": "stream",
     "text": [
      "45\n"
     ]
    }
   ],
   "source": [
    "#summation\n",
    "summation=0\n",
    "for num in range(0,10):\n",
    "    summation=summation+num\n",
    "print(summation)\n",
    "# 1+2+3+4+5+6+7+8+9 =45"
   ]
  },
  {
   "cell_type": "code",
   "execution_count": 13,
   "metadata": {},
   "outputs": [
    {
     "name": "stdout",
     "output_type": "stream",
     "text": [
      "['n', 'o', 't', 's', 'e', 'p', 'a', 'r', 'a', 't', 'e', 'd', 's', 't', 'r', 'i', 'n', 'g']\n"
     ]
    }
   ],
   "source": [
    "# List comprehensions-for separating strings\n",
    "example='notseparatedstring'\n",
    "# list_e = []\n",
    "# for char in example:\n",
    "#     list_e.append(char)\n",
    "# print(list_e)\n",
    "\n",
    "#same answer with smaler code\n",
    "print([char for char in example])"
   ]
  },
  {
   "cell_type": "code",
   "execution_count": 14,
   "metadata": {},
   "outputs": [],
   "source": [
    "# another example using loop\n",
    "int_list=[1,3,12,4,10,5,7,9,13,19]"
   ]
  },
  {
   "cell_type": "code",
   "execution_count": 21,
   "metadata": {},
   "outputs": [
    {
     "data": {
      "text/plain": [
       "[12, 4, 10]"
      ]
     },
     "execution_count": 21,
     "metadata": {},
     "output_type": "execute_result"
    }
   ],
   "source": [
    "[integer for integer in int_list if integer%2==0]"
   ]
  },
  {
   "cell_type": "code",
   "execution_count": 22,
   "metadata": {},
   "outputs": [
    {
     "data": {
      "text/plain": [
       "['odd', 'odd', 'even', 'even', 'even', 'odd', 'odd', 'odd', 'odd', 'odd']"
      ]
     },
     "execution_count": 22,
     "metadata": {},
     "output_type": "execute_result"
    }
   ],
   "source": [
    "# Another example\n",
    "['even' if integer%2==0 else 'odd' for integer in int_list]"
   ]
  },
  {
   "cell_type": "code",
   "execution_count": null,
   "metadata": {},
   "outputs": [],
   "source": []
  }
 ],
 "metadata": {
  "kernelspec": {
   "display_name": "Python 3",
   "language": "python",
   "name": "python3"
  },
  "language_info": {
   "codemirror_mode": {
    "name": "ipython",
    "version": 3
   },
   "file_extension": ".py",
   "mimetype": "text/x-python",
   "name": "python",
   "nbconvert_exporter": "python",
   "pygments_lexer": "ipython3",
   "version": "3.7.6"
  }
 },
 "nbformat": 4,
 "nbformat_minor": 4
}
